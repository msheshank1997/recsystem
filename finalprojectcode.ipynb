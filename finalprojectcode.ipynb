{
 "cells": [
  {
   "cell_type": "code",
   "execution_count": 1,
   "metadata": {
    "colab": {
     "base_uri": "https://localhost:8080/",
     "height": 280
    },
    "colab_type": "code",
    "executionInfo": {
     "elapsed": 42874,
     "status": "ok",
     "timestamp": 1565387652446,
     "user": {
      "displayName": "Sheshank Makkapati",
      "photoUrl": "",
      "userId": "13178050718777781068"
     },
     "user_tz": 420
    },
    "id": "DZzdc8C0Xc0b",
    "outputId": "ead8b176-1991-4609-fde2-ab1cd74c4bf7"
   },
   "outputs": [
    {
     "name": "stdout",
     "output_type": "stream",
     "text": [
      "Collecting scikit-surprise\n",
      "\u001b[?25l  Downloading https://files.pythonhosted.org/packages/4d/fc/cd4210b247d1dca421c25994740cbbf03c5e980e31881f10eaddf45fdab0/scikit-surprise-1.0.6.tar.gz (3.3MB)\n",
      "\u001b[K     |████████████████████████████████| 3.3MB 2.8MB/s \n",
      "\u001b[?25hRequirement already satisfied: joblib>=0.11 in /usr/local/lib/python3.6/dist-packages (from scikit-surprise) (0.13.2)\n",
      "Requirement already satisfied: numpy>=1.11.2 in /usr/local/lib/python3.6/dist-packages (from scikit-surprise) (1.16.4)\n",
      "Requirement already satisfied: scipy>=1.0.0 in /usr/local/lib/python3.6/dist-packages (from scikit-surprise) (1.3.0)\n",
      "Requirement already satisfied: six>=1.10.0 in /usr/local/lib/python3.6/dist-packages (from scikit-surprise) (1.12.0)\n",
      "Building wheels for collected packages: scikit-surprise\n",
      "  Building wheel for scikit-surprise (setup.py) ... \u001b[?25l\u001b[?25hdone\n",
      "  Created wheel for scikit-surprise: filename=scikit_surprise-1.0.6-cp36-cp36m-linux_x86_64.whl size=1683502 sha256=7f20f5e09faca6f8bcb1b21deb8828801aae223f3c645d3e44b17c048ad8b36a\n",
      "  Stored in directory: /root/.cache/pip/wheels/ec/c0/55/3a28eab06b53c220015063ebbdb81213cd3dcbb72c088251ec\n",
      "Successfully built scikit-surprise\n",
      "Installing collected packages: scikit-surprise\n",
      "Successfully installed scikit-surprise-1.0.6\n"
     ]
    }
   ],
   "source": [
    "!pip install scikit-surprise"
   ]
  },
  {
   "cell_type": "code",
   "execution_count": 0,
   "metadata": {
    "colab": {},
    "colab_type": "code",
    "id": "02s_SrGbg55V"
   },
   "outputs": [],
   "source": [
    "from sklearn.model_selection import ParameterGrid"
   ]
  },
  {
   "cell_type": "code",
   "execution_count": 6,
   "metadata": {
    "colab": {
     "base_uri": "https://localhost:8080/",
     "height": 107
    },
    "colab_type": "code",
    "executionInfo": {
     "elapsed": 3545,
     "status": "ok",
     "timestamp": 1565388086588,
     "user": {
      "displayName": "Sheshank Makkapati",
      "photoUrl": "",
      "userId": "13178050718777781068"
     },
     "user_tz": 420
    },
    "id": "taxbMoW1ZXRB",
    "outputId": "46996ee9-7025-4865-92bb-0ced33cb1c9b"
   },
   "outputs": [
    {
     "name": "stdout",
     "output_type": "stream",
     "text": [
      "Requirement already up-to-date: scikit-learn in /usr/local/lib/python3.6/dist-packages (0.21.3)\n",
      "Requirement already satisfied, skipping upgrade: joblib>=0.11 in /usr/local/lib/python3.6/dist-packages (from scikit-learn) (0.13.2)\n",
      "Requirement already satisfied, skipping upgrade: numpy>=1.11.0 in /usr/local/lib/python3.6/dist-packages (from scikit-learn) (1.16.4)\n",
      "Requirement already satisfied, skipping upgrade: scipy>=0.17.0 in /usr/local/lib/python3.6/dist-packages (from scikit-learn) (1.3.0)\n"
     ]
    }
   ],
   "source": [
    "!pip install -U scikit-learn"
   ]
  },
  {
   "cell_type": "code",
   "execution_count": 0,
   "metadata": {
    "colab": {},
    "colab_type": "code",
    "id": "-F1QmSsuYBXA"
   },
   "outputs": [],
   "source": [
    "import pandas as pd\n",
    "import numpy as np\n",
    "import matplotlib.mlab as mlab\n",
    "import matplotlib.pyplot as plt\n",
    "import seaborn as sns\n",
    "from surprise import *\n",
    "from surprise.accuracy import rmse, mae, fcp\n",
    "from UserDefinedAlgorithm import PredictMean\n",
    "import pickle\n",
    "from os import listdir"
   ]
  },
  {
   "cell_type": "code",
   "execution_count": 10,
   "metadata": {
    "colab": {
     "base_uri": "https://localhost:8080/",
     "height": 586
    },
    "colab_type": "code",
    "executionInfo": {
     "elapsed": 20079,
     "status": "ok",
     "timestamp": 1565388678427,
     "user": {
      "displayName": "Sheshank Makkapati",
      "photoUrl": "",
      "userId": "13178050718777781068"
     },
     "user_tz": 420
    },
    "id": "fjDkJ4O0ZvYQ",
    "outputId": "1bff0cf1-fbfa-4824-9b50-41c26b139d10"
   },
   "outputs": [
    {
     "data": {
      "text/html": [
       "<div>\n",
       "<style scoped>\n",
       "    .dataframe tbody tr th:only-of-type {\n",
       "        vertical-align: middle;\n",
       "    }\n",
       "\n",
       "    .dataframe tbody tr th {\n",
       "        vertical-align: top;\n",
       "    }\n",
       "\n",
       "    .dataframe thead th {\n",
       "        text-align: right;\n",
       "    }\n",
       "</style>\n",
       "<table border=\"1\" class=\"dataframe\">\n",
       "  <thead>\n",
       "    <tr style=\"text-align: right;\">\n",
       "      <th></th>\n",
       "      <th>reviewerID</th>\n",
       "      <th>asin</th>\n",
       "      <th>reviewerName</th>\n",
       "      <th>helpful</th>\n",
       "      <th>reviewText</th>\n",
       "      <th>overall</th>\n",
       "      <th>summary</th>\n",
       "      <th>unixReviewTime</th>\n",
       "      <th>reviewTime</th>\n",
       "    </tr>\n",
       "  </thead>\n",
       "  <tbody>\n",
       "    <tr>\n",
       "      <th>0</th>\n",
       "      <td>A1KLRMWW2FWPL4</td>\n",
       "      <td>0000031887</td>\n",
       "      <td>Amazon Customer \"cameramom\"</td>\n",
       "      <td>[0, 0]</td>\n",
       "      <td>This is a great tutu and at a really great pri...</td>\n",
       "      <td>5.0</td>\n",
       "      <td>Great tutu-  not cheaply made</td>\n",
       "      <td>1297468800</td>\n",
       "      <td>02 12, 2011</td>\n",
       "    </tr>\n",
       "    <tr>\n",
       "      <th>1</th>\n",
       "      <td>A2G5TCU2WDFZ65</td>\n",
       "      <td>0000031887</td>\n",
       "      <td>Amazon Customer</td>\n",
       "      <td>[0, 0]</td>\n",
       "      <td>I bought this for my 4 yr old daughter for dan...</td>\n",
       "      <td>5.0</td>\n",
       "      <td>Very Cute!!</td>\n",
       "      <td>1358553600</td>\n",
       "      <td>01 19, 2013</td>\n",
       "    </tr>\n",
       "    <tr>\n",
       "      <th>2</th>\n",
       "      <td>A1RLQXYNCMWRWN</td>\n",
       "      <td>0000031887</td>\n",
       "      <td>Carola</td>\n",
       "      <td>[0, 0]</td>\n",
       "      <td>What can I say... my daughters have it in oran...</td>\n",
       "      <td>5.0</td>\n",
       "      <td>I have buy more than one</td>\n",
       "      <td>1357257600</td>\n",
       "      <td>01 4, 2013</td>\n",
       "    </tr>\n",
       "    <tr>\n",
       "      <th>3</th>\n",
       "      <td>A8U3FAMSJVHS5</td>\n",
       "      <td>0000031887</td>\n",
       "      <td>Caromcg</td>\n",
       "      <td>[0, 0]</td>\n",
       "      <td>We bought several tutus at once, and they are ...</td>\n",
       "      <td>5.0</td>\n",
       "      <td>Adorable, Sturdy</td>\n",
       "      <td>1398556800</td>\n",
       "      <td>04 27, 2014</td>\n",
       "    </tr>\n",
       "    <tr>\n",
       "      <th>4</th>\n",
       "      <td>A3GEOILWLK86XM</td>\n",
       "      <td>0000031887</td>\n",
       "      <td>CJ</td>\n",
       "      <td>[0, 0]</td>\n",
       "      <td>Thank you Halo Heaven great product for Little...</td>\n",
       "      <td>5.0</td>\n",
       "      <td>Grammy's Angels Love it</td>\n",
       "      <td>1394841600</td>\n",
       "      <td>03 15, 2014</td>\n",
       "    </tr>\n",
       "  </tbody>\n",
       "</table>\n",
       "</div>"
      ],
      "text/plain": [
       "       reviewerID        asin  ... unixReviewTime   reviewTime\n",
       "0  A1KLRMWW2FWPL4  0000031887  ...     1297468800  02 12, 2011\n",
       "1  A2G5TCU2WDFZ65  0000031887  ...     1358553600  01 19, 2013\n",
       "2  A1RLQXYNCMWRWN  0000031887  ...     1357257600   01 4, 2013\n",
       "3   A8U3FAMSJVHS5  0000031887  ...     1398556800  04 27, 2014\n",
       "4  A3GEOILWLK86XM  0000031887  ...     1394841600  03 15, 2014\n",
       "\n",
       "[5 rows x 9 columns]"
      ]
     },
     "execution_count": 10,
     "metadata": {
      "tags": []
     },
     "output_type": "execute_result"
    }
   ],
   "source": [
    "def parse(path):\n",
    "\tg = open(path, 'rb')\n",
    "\tfor l in g:\n",
    "\t\tyield eval(l)\n",
    "        \n",
    "#parse data into a pandas dataframe\n",
    "def get_df(path):\n",
    "\ti = 0\n",
    "\tdf = {}\n",
    "\tfor d in parse(path):\n",
    "\t\tdf[i] = d\n",
    "\t\ti += 1\n",
    "\treturn pd.DataFrame.from_dict(df, orient='index')\n",
    "\n",
    "# if the data has been parsed:\n",
    "#   load it \n",
    "# else:\n",
    "#   parse it, save it and load it\n",
    "def possibly_get_df(path):\n",
    "    try:\n",
    "        df = pd.read_csv('use_item_ratings.csv')\n",
    "    except IOError:\n",
    "        df = get_df(path)\n",
    "        df.to_csv('use_item_ratings.csv', index=False)\n",
    "    return df\n",
    "\n",
    "df = possibly_get_df('Clothing_Shoes_and_Jewelry_5.json')\n",
    "df.head()"
   ]
  },
  {
   "cell_type": "code",
   "execution_count": 12,
   "metadata": {
    "colab": {
     "base_uri": "https://localhost:8080/",
     "height": 219
    },
    "colab_type": "code",
    "executionInfo": {
     "elapsed": 289,
     "status": "ok",
     "timestamp": 1565388733632,
     "user": {
      "displayName": "Sheshank Makkapati",
      "photoUrl": "",
      "userId": "13178050718777781068"
     },
     "user_tz": 420
    },
    "id": "doqldElSb-4O",
    "outputId": "a49cd580-1c40-4e16-c2cc-f0776fb77a92"
   },
   "outputs": [
    {
     "name": "stdout",
     "output_type": "stream",
     "text": [
      "Dataframe after dropping unneccessary fields:\n"
     ]
    },
    {
     "data": {
      "text/html": [
       "<div>\n",
       "<style scoped>\n",
       "    .dataframe tbody tr th:only-of-type {\n",
       "        vertical-align: middle;\n",
       "    }\n",
       "\n",
       "    .dataframe tbody tr th {\n",
       "        vertical-align: top;\n",
       "    }\n",
       "\n",
       "    .dataframe thead th {\n",
       "        text-align: right;\n",
       "    }\n",
       "</style>\n",
       "<table border=\"1\" class=\"dataframe\">\n",
       "  <thead>\n",
       "    <tr style=\"text-align: right;\">\n",
       "      <th></th>\n",
       "      <th>reviewerID</th>\n",
       "      <th>asin</th>\n",
       "      <th>overall</th>\n",
       "    </tr>\n",
       "  </thead>\n",
       "  <tbody>\n",
       "    <tr>\n",
       "      <th>0</th>\n",
       "      <td>A1KLRMWW2FWPL4</td>\n",
       "      <td>0000031887</td>\n",
       "      <td>5.0</td>\n",
       "    </tr>\n",
       "    <tr>\n",
       "      <th>1</th>\n",
       "      <td>A2G5TCU2WDFZ65</td>\n",
       "      <td>0000031887</td>\n",
       "      <td>5.0</td>\n",
       "    </tr>\n",
       "    <tr>\n",
       "      <th>2</th>\n",
       "      <td>A1RLQXYNCMWRWN</td>\n",
       "      <td>0000031887</td>\n",
       "      <td>5.0</td>\n",
       "    </tr>\n",
       "    <tr>\n",
       "      <th>3</th>\n",
       "      <td>A8U3FAMSJVHS5</td>\n",
       "      <td>0000031887</td>\n",
       "      <td>5.0</td>\n",
       "    </tr>\n",
       "    <tr>\n",
       "      <th>4</th>\n",
       "      <td>A3GEOILWLK86XM</td>\n",
       "      <td>0000031887</td>\n",
       "      <td>5.0</td>\n",
       "    </tr>\n",
       "  </tbody>\n",
       "</table>\n",
       "</div>"
      ],
      "text/plain": [
       "       reviewerID        asin  overall\n",
       "0  A1KLRMWW2FWPL4  0000031887      5.0\n",
       "1  A2G5TCU2WDFZ65  0000031887      5.0\n",
       "2  A1RLQXYNCMWRWN  0000031887      5.0\n",
       "3   A8U3FAMSJVHS5  0000031887      5.0\n",
       "4  A3GEOILWLK86XM  0000031887      5.0"
      ]
     },
     "execution_count": 12,
     "metadata": {
      "tags": []
     },
     "output_type": "execute_result"
    }
   ],
   "source": [
    "ratings_df = df[['reviewerID', 'asin','overall']]\n",
    "print (\"Dataframe after dropping unneccessary fields:\")\n",
    "ratings_df.head()"
   ]
  },
  {
   "cell_type": "code",
   "execution_count": 23,
   "metadata": {
    "colab": {
     "base_uri": "https://localhost:8080/",
     "height": 104
    },
    "colab_type": "code",
    "executionInfo": {
     "elapsed": 387,
     "status": "ok",
     "timestamp": 1565389166149,
     "user": {
      "displayName": "Sheshank Makkapati",
      "photoUrl": "",
      "userId": "13178050718777781068"
     },
     "user_tz": 420
    },
    "id": "Y5tJthM9cLbS",
    "outputId": "448a87bd-7329-4c11-9816-ab1bcbed228c"
   },
   "outputs": [
    {
     "name": "stdout",
     "output_type": "stream",
     "text": [
      "total number of user-items ratings is:  278677\n",
      "number of unique reviewers is: 39387\n",
      "number of unique items is: 23033\n",
      "average rating  and standard deviation are 4.245133254628118 1.1037471651949429\n",
      "sparisity of the user-item matrix is: 0.0003071833809100676\n"
     ]
    }
   ],
   "source": [
    "total_num_of_ratings = len(ratings_df)\n",
    "print (\"total number of user-items ratings is: \",total_num_of_ratings)\n",
    "\n",
    "#number of unique reviewers\n",
    "num_of_users = len(ratings_df['reviewerID'].unique())\n",
    "print (\"number of unique reviewers is:\" , num_of_users)\n",
    "\n",
    "#number of unique items\n",
    "num_of_items = len(ratings_df['asin'].unique())\n",
    "print (\"number of unique items is:\", num_of_items)\n",
    "\n",
    "#average rating and standar deviation\n",
    "ratings_mean = ratings_df['overall'].mean()\n",
    "ratings_std = ratings_df['overall'].std()\n",
    "print (\"average rating  and standard deviation are\" ,ratings_mean, ratings_std)\n",
    "\n",
    "# The sparsity of the user-item matrix\n",
    "sparsity = float(total_num_of_ratings) / (num_of_users * num_of_items)\n",
    "print (\"sparisity of the user-item matrix is:\" , sparsity)"
   ]
  },
  {
   "cell_type": "code",
   "execution_count": 24,
   "metadata": {
    "colab": {
     "base_uri": "https://localhost:8080/",
     "height": 87
    },
    "colab_type": "code",
    "executionInfo": {
     "elapsed": 613,
     "status": "ok",
     "timestamp": 1565389253676,
     "user": {
      "displayName": "Sheshank Makkapati",
      "photoUrl": "",
      "userId": "13178050718777781068"
     },
     "user_tz": 420
    },
    "id": "Q3XSdHMJd2T_",
    "outputId": "32a45a15-3698-45d9-96d2-283b74d274ac"
   },
   "outputs": [
    {
     "name": "stdout",
     "output_type": "stream",
     "text": [
      "The average number of items rated by a user is 7.075354812501587\n",
      "The average number of items rated by a user is 3.585204526253403\n",
      "The minimum number of items rated by a user is 5\n",
      "The maximum number of items rated by a user is 136\n"
     ]
    }
   ],
   "source": [
    "users_df = ratings_df.groupby('reviewerID').size()\n",
    "print (\"The average number of items rated by a user is\" ,np.mean(users_df))\n",
    "print (\"The average number of items rated by a user is\" , np.std(users_df))\n",
    "print (\"The minimum number of items rated by a user is\" , min(users_df))\n",
    "print (\"The maximum number of items rated by a user is\" , max(users_df))"
   ]
  },
  {
   "cell_type": "code",
   "execution_count": 25,
   "metadata": {
    "colab": {
     "base_uri": "https://localhost:8080/",
     "height": 87
    },
    "colab_type": "code",
    "executionInfo": {
     "elapsed": 325,
     "status": "ok",
     "timestamp": 1565389399143,
     "user": {
      "displayName": "Sheshank Makkapati",
      "photoUrl": "",
      "userId": "13178050718777781068"
     },
     "user_tz": 420
    },
    "id": "nZyP1NX-eWyG",
    "outputId": "eee3967f-b2aa-454d-9978-079b47611a4a"
   },
   "outputs": [
    {
     "name": "stdout",
     "output_type": "stream",
     "text": [
      "The average number of users that rated an item is  12.099031823904832\n",
      "The standard deviation of number of users that rated an item is  13.967951962950204\n",
      "The minimum number of users that rated an item is  5\n",
      "The minimum number of users that rated an item is  441\n"
     ]
    }
   ],
   "source": [
    "items_df = ratings_df.groupby('asin').size()\n",
    "print (\"The average number of users that rated an item is \",  np.mean(items_df))\n",
    "print (\"The standard deviation of number of users that rated an item is \" , np.std(items_df))\n",
    "print (\"The minimum number of users that rated an item is \" , min(items_df))\n",
    "print (\"The minimum number of users that rated an item is \" , max(items_df))"
   ]
  },
  {
   "cell_type": "code",
   "execution_count": 26,
   "metadata": {
    "colab": {
     "base_uri": "https://localhost:8080/",
     "height": 521
    },
    "colab_type": "code",
    "executionInfo": {
     "elapsed": 736,
     "status": "ok",
     "timestamp": 1565389417816,
     "user": {
      "displayName": "Sheshank Makkapati",
      "photoUrl": "",
      "userId": "13178050718777781068"
     },
     "user_tz": 420
    },
    "id": "4ayd3zmkerLx",
    "outputId": "561a5de7-69bf-4165-af7a-1af4fb98616c"
   },
   "outputs": [
    {
     "data": {
      "image/png": "[encoded data removed]",
      "text/plain": [
       "<Figure size 432x288 with 1 Axes>"
      ]
     },
     "metadata": {
      "tags": []
     },
     "output_type": "display_data"
    },
    {
     "data": {
      "image/png": "[encoded data removed]",
      "text/plain": [
       "<Figure size 432x288 with 1 Axes>"
      ]
     },
     "metadata": {
      "tags": []
     },
     "output_type": "display_data"
    }
   ],
   "source": [
    "plt.figure(1)\n",
    "plt.hist(ratings_df['overall'],5, facecolor='g')\n",
    "plt.xlabel('Rating')\n",
    "plt.ylabel('Frequency')\n",
    "plt.axis([0, 5, 0, 180000])\n",
    "\n",
    "# percentage of each rating in a pie chart\n",
    "plt.figure(2)\n",
    "labels = 'rating of 1', 'rating of 2' ,'rating of 3', 'rating of 4','rating of 5'\n",
    "colors = ['gold', 'yellowgreen', 'lightcoral', 'lightskyblue','red']\n",
    "plt.pie(ratings_df.groupby('overall').size(),labels=labels, colors=colors,autopct='%1.1f%%', shadow=True, startangle=140)\n",
    "plt.axis('equal')\n",
    "\n",
    "plt.show()"
   ]
  },
  {
   "cell_type": "code",
   "execution_count": 0,
   "metadata": {
    "colab": {},
    "colab_type": "code",
    "id": "03X2fIFOezj9"
   },
   "outputs": [],
   "source": [
    "ratings_df.to_csv('cleaned_user_item_ratings.csv', index=False,header=False)"
   ]
  },
  {
   "cell_type": "code",
   "execution_count": 0,
   "metadata": {
    "colab": {},
    "colab_type": "code",
    "id": "xQKI0FqPe10m"
   },
   "outputs": [],
   "source": [
    "original_file_path = 'cleaned_user_item_ratings.csv'\n",
    "\n",
    "reader = Reader(line_format='user item rating', sep=',')\n",
    "original_data = Dataset.load_from_file(original_file_path, reader=reader)\n",
    "\n",
    "#Split data into 4 folds, 3 for training and 1 for testing.\n",
    "original_data.split(n_folds=4)"
   ]
  },
  {
   "cell_type": "code",
   "execution_count": 0,
   "metadata": {
    "colab": {},
    "colab_type": "code",
    "id": "jd_AjFF3e6CW"
   },
   "outputs": [],
   "source": [
    "def algorithm_to_results(data, algo):\n",
    "    algo = algo()\n",
    "    alogPerf = evaluate(algo, data,measures=['RMSE', 'FCP'], verbose=False)\n",
    "    return alogPerf"
   ]
  },
  {
   "cell_type": "code",
   "execution_count": 31,
   "metadata": {
    "colab": {
     "base_uri": "https://localhost:8080/",
     "height": 193
    },
    "colab_type": "code",
    "executionInfo": {
     "elapsed": 8545,
     "status": "ok",
     "timestamp": 1565389511615,
     "user": {
      "displayName": "Sheshank Makkapati",
      "photoUrl": "",
      "userId": "13178050718777781068"
     },
     "user_tz": 420
    },
    "id": "GjtNnqlCe_jh",
    "outputId": "6dbde099-6cc4-404a-f529-690231ffa9ad"
   },
   "outputs": [
    {
     "name": "stderr",
     "output_type": "stream",
     "text": [
      "/usr/local/lib/python3.6/dist-packages/surprise/prediction_algorithms/algo_base.py:45: UserWarning: It looks like this algorithm (<class 'UserDefinedAlgorithm.PredictMean'>) implements train() instead of fit(): train() is deprecated, please use fit() instead.\n",
      "  'please use fit() instead.', UserWarning)\n",
      "/usr/local/lib/python3.6/dist-packages/surprise/evaluate.py:66: UserWarning: The evaluate() method is deprecated. Please use model_selection.cross_validate() instead.\n",
      "  'model_selection.cross_validate() instead.', UserWarning)\n",
      "/usr/local/lib/python3.6/dist-packages/surprise/dataset.py:193: UserWarning: Using data.split() or using load_from_folds() without using a CV iterator is now deprecated. \n",
      "  UserWarning)\n",
      "/usr/local/lib/python3.6/dist-packages/surprise/prediction_algorithms/algo_base.py:51: UserWarning: train() is deprecated. Use fit() instead\n",
      "  warnings.warn('train() is deprecated. Use fit() instead', UserWarning)\n"
     ]
    },
    {
     "name": "stdout",
     "output_type": "stream",
     "text": [
      "defaultdict(<class 'list'>, {'rmse': [1.1037445362269522, 1.1035107786722715, 1.1022165120509053, 1.1055234463696018], 'fcp': [0.0, 0.0, 0.0, 0.0]})\n"
     ]
    }
   ],
   "source": [
    "print (algorithm_to_results(original_data,PredictMean))"
   ]
  },
  {
   "cell_type": "code",
   "execution_count": 32,
   "metadata": {
    "colab": {
     "base_uri": "https://localhost:8080/",
     "height": 124
    },
    "colab_type": "code",
    "executionInfo": {
     "elapsed": 82412,
     "status": "ok",
     "timestamp": 1565389676612,
     "user": {
      "displayName": "Sheshank Makkapati",
      "photoUrl": "",
      "userId": "13178050718777781068"
     },
     "user_tz": 420
    },
    "id": "OB0xGvEmfWvq",
    "outputId": "3cf358e5-294a-467c-aa1b-6c9428ba7163"
   },
   "outputs": [
    {
     "name": "stderr",
     "output_type": "stream",
     "text": [
      "/usr/local/lib/python3.6/dist-packages/surprise/evaluate.py:66: UserWarning: The evaluate() method is deprecated. Please use model_selection.cross_validate() instead.\n",
      "  'model_selection.cross_validate() instead.', UserWarning)\n",
      "/usr/local/lib/python3.6/dist-packages/surprise/dataset.py:193: UserWarning: Using data.split() or using load_from_folds() without using a CV iterator is now deprecated. \n",
      "  UserWarning)\n"
     ]
    },
    {
     "name": "stdout",
     "output_type": "stream",
     "text": [
      "defaultdict(<class 'list'>, {'rmse': [1.0533529208441688, 1.0534320094877632, 1.049143398394136, 1.0510602068631283], 'fcp': [0.5252986491027677, 0.526070376741988, 0.5185298582673148, 0.5258289248805993]})\n"
     ]
    }
   ],
   "source": [
    "print (algorithm_to_results(original_data, SVD))"
   ]
  },
  {
   "cell_type": "code",
   "execution_count": 33,
   "metadata": {
    "colab": {
     "base_uri": "https://localhost:8080/",
     "height": 124
    },
    "colab_type": "code",
    "executionInfo": {
     "elapsed": 59209,
     "status": "ok",
     "timestamp": 1565389767932,
     "user": {
      "displayName": "Sheshank Makkapati",
      "photoUrl": "",
      "userId": "13178050718777781068"
     },
     "user_tz": 420
    },
    "id": "2di5nBi1fzBv",
    "outputId": "5684b726-6710-423f-f7d0-c5bf66afc419"
   },
   "outputs": [
    {
     "name": "stderr",
     "output_type": "stream",
     "text": [
      "/usr/local/lib/python3.6/dist-packages/surprise/evaluate.py:66: UserWarning: The evaluate() method is deprecated. Please use model_selection.cross_validate() instead.\n",
      "  'model_selection.cross_validate() instead.', UserWarning)\n",
      "/usr/local/lib/python3.6/dist-packages/surprise/dataset.py:193: UserWarning: Using data.split() or using load_from_folds() without using a CV iterator is now deprecated. \n",
      "  UserWarning)\n"
     ]
    },
    {
     "name": "stdout",
     "output_type": "stream",
     "text": [
      "defaultdict(<class 'list'>, {'rmse': [1.177166665432877, 1.1681025564299312, 1.1641494165176016, 1.1718822909752658], 'fcp': [0.515353233857541, 0.5110482602234229, 0.5118714723331239, 0.5136654870048053]})\n"
     ]
    }
   ],
   "source": [
    "print (algorithm_to_results(original_data, CoClustering))"
   ]
  },
  {
   "cell_type": "code",
   "execution_count": 0,
   "metadata": {
    "colab": {},
    "colab_type": "code",
    "id": "eGZO2yuWgGNs"
   },
   "outputs": [],
   "source": [
    "def get_folds_mean(algo, data, accuracy=['RMSE']):\n",
    "    measures_list = []\n",
    "    for trainset, testset in data.folds():\n",
    "        algo.train(trainset)\n",
    "        predictions = algo.test(testset)\n",
    "        accuracy_measure = []\n",
    "        if 'RMSE' in accuracy:\n",
    "            accuracy_measure.append(rmse(predictions, verbose=False))\n",
    "        if 'MAE' in accuracy:\n",
    "            accuracy_measure.append(mae(predictions, verbose=False))\n",
    "        if 'FCP' in accuracy:\n",
    "            accuracy_measure.append(fcp(predictions, verbose=False))\n",
    "        measures_list.append(accuracy_measure)\n",
    "    return np.mean(measures_list,axis=0)\n",
    "\n",
    "# return a list of tuples of each parameter combination and its correcsponding accuracy measure\n",
    "def compute_all_combinations(combinations_list,algo, data, accuracy=['RMSE']):\n",
    "    results = []\n",
    "    for combination in combinations_list:\n",
    "        algo_instance = algo(**combination)\n",
    "        mean_accuracy = get_folds_mean(algo_instance, data,accuracy)\n",
    "        combination['measure'] = mean_accuracy\n",
    "        results.append(combination)\n",
    "    return results"
   ]
  },
  {
   "cell_type": "code",
   "execution_count": 41,
   "metadata": {
    "colab": {
     "base_uri": "https://localhost:8080/",
     "height": 280
    },
    "colab_type": "code",
    "executionInfo": {
     "elapsed": 2051027,
     "status": "ok",
     "timestamp": 1565392534073,
     "user": {
      "displayName": "Sheshank Makkapati",
      "photoUrl": "",
      "userId": "13178050718777781068"
     },
     "user_tz": 420
    },
    "id": "5x15vWxEgLJD",
    "outputId": "3eacf434-6985-420a-92fe-59522657f1f3"
   },
   "outputs": [
    {
     "name": "stdout",
     "output_type": "stream",
     "text": [
      "regularization is 0.05:\n"
     ]
    },
    {
     "name": "stderr",
     "output_type": "stream",
     "text": [
      "/usr/local/lib/python3.6/dist-packages/surprise/dataset.py:193: UserWarning: Using data.split() or using load_from_folds() without using a CV iterator is now deprecated. \n",
      "  UserWarning)\n",
      "/usr/local/lib/python3.6/dist-packages/surprise/prediction_algorithms/algo_base.py:51: UserWarning: train() is deprecated. Use fit() instead\n",
      "  warnings.warn('train() is deprecated. Use fit() instead', UserWarning)\n"
     ]
    },
    {
     "name": "stdout",
     "output_type": "stream",
     "text": [
      "done\n",
      "regularization is 0.1:\n",
      "done\n",
      "regularization is 0.2:\n",
      "done\n",
      "regularization is 0.4:\n",
      "done\n",
      "regularization is 0.6:\n",
      "done\n"
     ]
    }
   ],
   "source": [
    "print ('regularization is 0.05:')\n",
    "param_grid = {'n_epochs':[20], 'lr_all': [0.002, 0.005, 0.01, 0.015, 0.02], 'reg_all': [0.05]}\n",
    "combinations_list  = list(ParameterGrid(param_grid))\n",
    "vary_lr_rate_only_reg2 = compute_all_combinations(combinations_list, SVD, original_data, accuracy=['RMSE','FCP'])\n",
    "print ('done')\n",
    "\n",
    "print ('regularization is 0.1:')\n",
    "param_grid = {'n_epochs':[20], 'lr_all': [0.002, 0.005, 0.01, 0.015, 0.02], 'reg_all': [0.1]}\n",
    "combinations_list  = list(ParameterGrid(param_grid))\n",
    "vary_lr_rate_only_reg3 = compute_all_combinations(combinations_list, SVD, original_data, accuracy=['RMSE','FCP'])\n",
    "print ('done')\n",
    "\n",
    "print ('regularization is 0.2:')\n",
    "param_grid = {'n_epochs':[20], 'lr_all': [0.002, 0.005, 0.01, 0.015, 0.02], 'reg_all': [0.2]}\n",
    "combinations_list  = list(ParameterGrid(param_grid))\n",
    "vary_lr_rate_only_reg4 = compute_all_combinations(combinations_list, SVD, original_data, accuracy=['RMSE','FCP'])\n",
    "print ('done')\n",
    "\n",
    "print ('regularization is 0.4:')\n",
    "param_grid = {'n_epochs':[20], 'lr_all': [0.002, 0.005, 0.01, 0.015, 0.02], 'reg_all': [0.4]}\n",
    "combinations_list  = list(ParameterGrid(param_grid))\n",
    "vary_lr_rate_only_reg5 = compute_all_combinations(combinations_list, SVD, original_data, accuracy=['RMSE','FCP'])\n",
    "print ('done')\n",
    "\n",
    "print ('regularization is 0.6:')\n",
    "param_grid = {'n_epochs':[20], 'lr_all': [0.002, 0.005, 0.01, 0.015, 0.02], 'reg_all': [0.6]}\n",
    "combinations_list  = list(ParameterGrid(param_grid))\n",
    "vary_lr_rate_only_reg6 = compute_all_combinations(combinations_list, SVD, original_data, accuracy=['RMSE','FCP'])\n",
    "print ('done')"
   ]
  },
  {
   "cell_type": "code",
   "execution_count": 0,
   "metadata": {
    "colab": {},
    "colab_type": "code",
    "id": "TgGXjnMirPgC"
   },
   "outputs": [],
   "source": [
    "def get_learn_measure_rmse(iterable):\n",
    "    x_values = []\n",
    "    y_values = []\n",
    "    for item in iterable:\n",
    "        x_values.append(item['lr_all'])\n",
    "        y_values.append(item['measure'][0])\n",
    "    return [x_values, y_values]\n",
    "\n",
    "def get_learn_measure_fcp(iterable):\n",
    "    x_values = []\n",
    "    y_values = []\n",
    "    for item in iterable:\n",
    "        x_values.append(item['lr_all'])\n",
    "        y_values.append(item['measure'][1])\n",
    "    return [x_values, y_values]\n",
    "\n",
    "#RMSE\n",
    "reg2_rmse = get_learn_measure_rmse(vary_lr_rate_only_reg2)\n",
    "reg3_rmse = get_learn_measure_rmse(vary_lr_rate_only_reg3)\n",
    "reg4_rmse = get_learn_measure_rmse(vary_lr_rate_only_reg4)\n",
    "reg5_rmse = get_learn_measure_rmse(vary_lr_rate_only_reg5)\n",
    "reg6_rmse = get_learn_measure_rmse(vary_lr_rate_only_reg6)\n",
    "\n",
    "#FCP\n",
    "reg2_fcp = get_learn_measure_fcp(vary_lr_rate_only_reg2)\n",
    "reg3_fcp = get_learn_measure_fcp(vary_lr_rate_only_reg3)\n",
    "reg4_fcp = get_learn_measure_fcp(vary_lr_rate_only_reg4)\n",
    "reg5_fcp = get_learn_measure_fcp(vary_lr_rate_only_reg5)\n",
    "reg6_fcp = get_learn_measure_fcp(vary_lr_rate_only_reg6)"
   ]
  },
  {
   "cell_type": "code",
   "execution_count": 44,
   "metadata": {
    "colab": {
     "base_uri": "https://localhost:8080/",
     "height": 295
    },
    "colab_type": "code",
    "executionInfo": {
     "elapsed": 971,
     "status": "ok",
     "timestamp": 1565392730373,
     "user": {
      "displayName": "Sheshank Makkapati",
      "photoUrl": "",
      "userId": "13178050718777781068"
     },
     "user_tz": 420
    },
    "id": "qwIKgMDfrUeI",
    "outputId": "a34584be-5a5a-4925-df7b-81b9dd939810"
   },
   "outputs": [
    {
     "data": {
      "image/png": "[encoded data removed]",
      "text/plain": [
       "<Figure size 432x288 with 2 Axes>"
      ]
     },
     "metadata": {
      "tags": []
     },
     "output_type": "display_data"
    }
   ],
   "source": [
    "fig, ax1= plt.subplots()\n",
    "ax1.plot(reg2_rmse[0], reg2_rmse[1], 'b-',reg3_rmse[0], reg3_rmse[1], 'y-',\\\n",
    "         reg4_rmse[0], reg4_rmse[1], 'r-',reg5_rmse[0], reg5_rmse[1], 'g-',reg6_rmse[0], reg6_rmse[1], 'o-')\n",
    "ax1.set_xlabel('Learning rate')\n",
    "ax1.set_ylabel('RMSE')\n",
    "ax2 = ax1.twinx()\n",
    "ax2.plot(reg2_fcp[0], reg2_fcp[1], 'b-',reg3_fcp[0], reg3_fcp[1], 'y-',\\\n",
    "        reg4_fcp[0], reg4_fcp[1], 'r-',reg5_fcp[0], reg5_fcp[1], 'g-',reg6_fcp[0], reg6_fcp[1], 'o-')\n",
    "ax2.set_ylabel('FCP')\n",
    "labels = ['0.05','0.1','0.2','0.4','0.6']\n",
    "plt.legend(labels)\n",
    "plt.title('RMSE, FCP vs. learning rate and regularization factors - 20 iterations')\n",
    "plt.show()"
   ]
  },
  {
   "cell_type": "code",
   "execution_count": 46,
   "metadata": {
    "colab": {
     "base_uri": "https://localhost:8080/",
     "height": 280
    },
    "colab_type": "code",
    "executionInfo": {
     "elapsed": 3837299,
     "status": "ok",
     "timestamp": 1565396719232,
     "user": {
      "displayName": "Sheshank Makkapati",
      "photoUrl": "",
      "userId": "13178050718777781068"
     },
     "user_tz": 420
    },
    "id": "ximkdmRQrd63",
    "outputId": "92162a29-2ac8-40ad-8a91-bb9a4846f2bd"
   },
   "outputs": [
    {
     "name": "stdout",
     "output_type": "stream",
     "text": [
      "regularization is 0.05:\n"
     ]
    },
    {
     "name": "stderr",
     "output_type": "stream",
     "text": [
      "/usr/local/lib/python3.6/dist-packages/surprise/dataset.py:193: UserWarning: Using data.split() or using load_from_folds() without using a CV iterator is now deprecated. \n",
      "  UserWarning)\n",
      "/usr/local/lib/python3.6/dist-packages/surprise/prediction_algorithms/algo_base.py:51: UserWarning: train() is deprecated. Use fit() instead\n",
      "  warnings.warn('train() is deprecated. Use fit() instead', UserWarning)\n"
     ]
    },
    {
     "name": "stdout",
     "output_type": "stream",
     "text": [
      "done\n",
      "regularization is 0.1:\n",
      "done\n",
      "regularization is 0.2:\n",
      "done\n",
      "regularization is 0.4:\n",
      "done\n",
      "regularization is 0.6:\n",
      "done\n"
     ]
    }
   ],
   "source": [
    "print ('regularization is 0.05:')\n",
    "param_grid = {'n_epochs':[40], 'lr_all': [0.002, 0.005, 0.01, 0.015, 0.02], 'reg_all': [0.05]}\n",
    "combinations_list  = list(ParameterGrid(param_grid))\n",
    "vary_lr_rate_only_reg2_40 = compute_all_combinations(combinations_list, SVD, original_data, accuracy=['RMSE','FCP'])\n",
    "print ('done')\n",
    "\n",
    "print ('regularization is 0.1:')\n",
    "param_grid = {'n_epochs':[40], 'lr_all': [0.002, 0.005, 0.01, 0.015, 0.02], 'reg_all': [0.1]}\n",
    "combinations_list  = list(ParameterGrid(param_grid))\n",
    "vary_lr_rate_only_reg3_40 = compute_all_combinations(combinations_list, SVD, original_data, accuracy=['RMSE','FCP'])\n",
    "print ('done')\n",
    "\n",
    "print ('regularization is 0.2:')\n",
    "param_grid = {'n_epochs':[40], 'lr_all': [0.002, 0.005, 0.01, 0.015, 0.02], 'reg_all': [0.2]}\n",
    "combinations_list  = list(ParameterGrid(param_grid))\n",
    "vary_lr_rate_only_reg4_40 = compute_all_combinations(combinations_list, SVD, original_data, accuracy=['RMSE','FCP'])\n",
    "print ('done')\n",
    "\n",
    "print ('regularization is 0.4:')\n",
    "param_grid = {'n_epochs':[40], 'lr_all': [0.002, 0.005, 0.01, 0.015, 0.02], 'reg_all': [0.4]}\n",
    "combinations_list  = list(ParameterGrid(param_grid))\n",
    "vary_lr_rate_only_reg5_40 = compute_all_combinations(combinations_list, SVD, original_data, accuracy=['RMSE','FCP'])\n",
    "print ('done')\n",
    "\n",
    "print ('regularization is 0.6:')\n",
    "param_grid = {'n_epochs':[40], 'lr_all': [0.002, 0.005, 0.01, 0.015, 0.02], 'reg_all': [0.6]}\n",
    "combinations_list  = list(ParameterGrid(param_grid))\n",
    "vary_lr_rate_only_reg6_40 = compute_all_combinations(combinations_list, SVD, original_data, accuracy=['RMSE','FCP'])\n",
    "print ('done')"
   ]
  },
  {
   "cell_type": "code",
   "execution_count": 0,
   "metadata": {
    "colab": {},
    "colab_type": "code",
    "id": "e36iVATe7zAv"
   },
   "outputs": [],
   "source": [
    "reg2_rmse_40 = get_learn_measure_rmse(vary_lr_rate_only_reg2_40)\n",
    "reg3_rmse_40 = get_learn_measure_rmse(vary_lr_rate_only_reg3_40)\n",
    "reg4_rmse_40 = get_learn_measure_rmse(vary_lr_rate_only_reg4_40)\n",
    "reg5_rmse_40 = get_learn_measure_rmse(vary_lr_rate_only_reg5_40)\n",
    "reg6_rmse_40 = get_learn_measure_rmse(vary_lr_rate_only_reg6_40)\n",
    "\n",
    "#FCP\n",
    "reg2_fcp_40 = get_learn_measure_fcp(vary_lr_rate_only_reg2_40)\n",
    "reg3_fcp_40 = get_learn_measure_fcp(vary_lr_rate_only_reg3_40)\n",
    "reg4_fcp_40 = get_learn_measure_fcp(vary_lr_rate_only_reg4_40)\n",
    "reg5_fcp_40 = get_learn_measure_fcp(vary_lr_rate_only_reg5_40)\n",
    "reg6_fcp_40 = get_learn_measure_fcp(vary_lr_rate_only_reg6_40)"
   ]
  },
  {
   "cell_type": "code",
   "execution_count": 48,
   "metadata": {
    "colab": {
     "base_uri": "https://localhost:8080/",
     "height": 295
    },
    "colab_type": "code",
    "executionInfo": {
     "elapsed": 869,
     "status": "ok",
     "timestamp": 1565397055270,
     "user": {
      "displayName": "Sheshank Makkapati",
      "photoUrl": "",
      "userId": "13178050718777781068"
     },
     "user_tz": 420
    },
    "id": "zGlJAAbO700w",
    "outputId": "2edb0151-b96e-4059-b011-b76104ff4d57"
   },
   "outputs": [
    {
     "data": {
      "image/png": "[encoded data removed]",
      "text/plain": [
       "<Figure size 432x288 with 2 Axes>"
      ]
     },
     "metadata": {
      "tags": []
     },
     "output_type": "display_data"
    }
   ],
   "source": [
    "fig, ax1= plt.subplots()\n",
    "ax1.plot(reg2_rmse_40[0], reg2_rmse_40[1], 'b-', reg3_rmse_40[0], reg3_rmse_40[1], 'y-',\\\n",
    "         reg4_rmse_40[0], reg4_rmse_40[1], 'r-',reg5_rmse_40[0], reg5_rmse_40[1], 'g-',\\\n",
    "         reg6_rmse_40[0], reg6_rmse_40[1], 'o-')\n",
    "ax1.set_xlabel('Learning rate')\n",
    "ax1.set_ylabel('RMSE')\n",
    "ax2 = ax1.twinx()\n",
    "ax2.plot(reg2_fcp_40[0], reg6_fcp_40[1], 'b-',reg3_fcp_40[0], reg3_fcp_40[1], 'y-',\\\n",
    "        reg2_fcp_40[0], reg4_fcp_40[1], 'r-',reg5_fcp_40[0], reg5_fcp_40[1], 'g-',\\\n",
    "        reg6_fcp_40[0], reg6_fcp_40[1], 'o-')\n",
    "ax2.set_ylabel('FCP')\n",
    "labels = ['0.05','0.1','0.2','0.4','0.6']\n",
    "plt.legend(labels)\n",
    "plt.title('RMSE, FCP vs. learning rate and regularization factors - 40 iterations')\n",
    "plt.show()"
   ]
  },
  {
   "cell_type": "code",
   "execution_count": 49,
   "metadata": {
    "colab": {
     "base_uri": "https://localhost:8080/",
     "height": 211
    },
    "colab_type": "code",
    "executionInfo": {
     "elapsed": 155669,
     "status": "ok",
     "timestamp": 1565397250798,
     "user": {
      "displayName": "Sheshank Makkapati",
      "photoUrl": "",
      "userId": "13178050718777781068"
     },
     "user_tz": 420
    },
    "id": "pSQQXgSL75VL",
    "outputId": "cb471c21-5a9b-4354-e605-8c471baa75ad"
   },
   "outputs": [
    {
     "name": "stdout",
     "output_type": "stream",
     "text": [
      "Orignal data:\n"
     ]
    },
    {
     "name": "stderr",
     "output_type": "stream",
     "text": [
      "/usr/local/lib/python3.6/dist-packages/surprise/evaluate.py:66: UserWarning: The evaluate() method is deprecated. Please use model_selection.cross_validate() instead.\n",
      "  'model_selection.cross_validate() instead.', UserWarning)\n",
      "/usr/local/lib/python3.6/dist-packages/surprise/dataset.py:193: UserWarning: Using data.split() or using load_from_folds() without using a CV iterator is now deprecated. \n",
      "  UserWarning)\n"
     ]
    },
    {
     "name": "stdout",
     "output_type": "stream",
     "text": [
      "The dump has been saved as file ./dumps/190810-00h32m14-SVD-fold1\n",
      "The dump has been saved as file ./dumps/190810-00h32m52-SVD-fold2\n",
      "The dump has been saved as file ./dumps/190810-00h33m31-SVD-fold3\n",
      "The dump has been saved as file ./dumps/190810-00h34m10-SVD-fold4\n",
      "defaultdict(<class 'list'>, {'rmse': [1.0442111506481138, 1.045964627357052, 1.0415518928009093, 1.0444876401253202], 'fcp': [0.5244567590789873, 0.5270248039638017, 0.5207895814010738, 0.5273983670257878]})\n"
     ]
    }
   ],
   "source": [
    "def svd_algorithm_final(data):\n",
    "    svdAlgo = SVD(n_epochs=40, lr_all=0.005, reg_all=0.6)\n",
    "    svdPerf = evaluate(svdAlgo, data, measures=['RMSE', 'FCP'], verbose=False, with_dump=True, dump_dir=\"./dumps/\")\n",
    "    return svdPerf\n",
    "print (\"Orignal data:\")\n",
    "print (svd_algorithm_final(original_data))"
   ]
  },
  {
   "cell_type": "code",
   "execution_count": 0,
   "metadata": {
    "colab": {},
    "colab_type": "code",
    "id": "nBhkxh9z9dst"
   },
   "outputs": [],
   "source": [
    "# The dump has been saved and we can now use it whenever we want.\n",
    "# Let's load it and see what we can do\n",
    "files = listdir(\"./dumps\")\n",
    "dump_obj = pickle.load(open('./dumps/' + files[0], 'rb'))"
   ]
  },
  {
   "cell_type": "code",
   "execution_count": 0,
   "metadata": {
    "colab": {},
    "colab_type": "code",
    "id": "VARtPFOP9kr4"
   },
   "outputs": [],
   "source": [
    "# read results from file\n",
    "predictions = dump_obj['predictions']\n"
   ]
  },
  {
   "cell_type": "code",
   "execution_count": 55,
   "metadata": {
    "colab": {
     "base_uri": "https://localhost:8080/",
     "height": 375
    },
    "colab_type": "code",
    "executionInfo": {
     "elapsed": 651,
     "status": "ok",
     "timestamp": 1565397621596,
     "user": {
      "displayName": "Sheshank Makkapati",
      "photoUrl": "",
      "userId": "13178050718777781068"
     },
     "user_tz": 420
    },
    "id": "yDzFn36s9yOV",
    "outputId": "0942c0d1-c2b7-411b-827d-0ba987f192be"
   },
   "outputs": [
    {
     "name": "stdout",
     "output_type": "stream",
     "text": [
      "Initial dataframe: \n",
      "          user_id     item_id  ...  predicted_rating                    details\n",
      "0   AMRI05KYFSNGE  B0014X6V4Q  ...          3.962407  {'was_impossible': False}\n",
      "1   A3UKDS0JCJ68Y  B006OW1V4C  ...          4.538245  {'was_impossible': False}\n",
      "2  A3EQ03LUCUTE6Q  B00B2PMF1Y  ...          4.040201  {'was_impossible': False}\n",
      "3  A1VCTFBQVZ1F7T  B005P23BB8  ...          3.834530  {'was_impossible': False}\n",
      "4  A236SEBB7SYE1V  B002NU6MKW  ...          4.435584  {'was_impossible': False}\n",
      "\n",
      "[5 rows x 5 columns]\n",
      "After dropping details column: \n"
     ]
    },
    {
     "data": {
      "text/html": [
       "<div>\n",
       "<style scoped>\n",
       "    .dataframe tbody tr th:only-of-type {\n",
       "        vertical-align: middle;\n",
       "    }\n",
       "\n",
       "    .dataframe tbody tr th {\n",
       "        vertical-align: top;\n",
       "    }\n",
       "\n",
       "    .dataframe thead th {\n",
       "        text-align: right;\n",
       "    }\n",
       "</style>\n",
       "<table border=\"1\" class=\"dataframe\">\n",
       "  <thead>\n",
       "    <tr style=\"text-align: right;\">\n",
       "      <th></th>\n",
       "      <th>user_id</th>\n",
       "      <th>item_id</th>\n",
       "      <th>actual_rating</th>\n",
       "      <th>predicted_rating</th>\n",
       "    </tr>\n",
       "  </thead>\n",
       "  <tbody>\n",
       "    <tr>\n",
       "      <th>0</th>\n",
       "      <td>AMRI05KYFSNGE</td>\n",
       "      <td>B0014X6V4Q</td>\n",
       "      <td>4.0</td>\n",
       "      <td>3.962407</td>\n",
       "    </tr>\n",
       "    <tr>\n",
       "      <th>1</th>\n",
       "      <td>A3UKDS0JCJ68Y</td>\n",
       "      <td>B006OW1V4C</td>\n",
       "      <td>5.0</td>\n",
       "      <td>4.538245</td>\n",
       "    </tr>\n",
       "    <tr>\n",
       "      <th>2</th>\n",
       "      <td>A3EQ03LUCUTE6Q</td>\n",
       "      <td>B00B2PMF1Y</td>\n",
       "      <td>5.0</td>\n",
       "      <td>4.040201</td>\n",
       "    </tr>\n",
       "    <tr>\n",
       "      <th>3</th>\n",
       "      <td>A1VCTFBQVZ1F7T</td>\n",
       "      <td>B005P23BB8</td>\n",
       "      <td>5.0</td>\n",
       "      <td>3.834530</td>\n",
       "    </tr>\n",
       "    <tr>\n",
       "      <th>4</th>\n",
       "      <td>A236SEBB7SYE1V</td>\n",
       "      <td>B002NU6MKW</td>\n",
       "      <td>4.0</td>\n",
       "      <td>4.435584</td>\n",
       "    </tr>\n",
       "  </tbody>\n",
       "</table>\n",
       "</div>"
      ],
      "text/plain": [
       "          user_id     item_id  actual_rating  predicted_rating\n",
       "0   AMRI05KYFSNGE  B0014X6V4Q            4.0          3.962407\n",
       "1   A3UKDS0JCJ68Y  B006OW1V4C            5.0          4.538245\n",
       "2  A3EQ03LUCUTE6Q  B00B2PMF1Y            5.0          4.040201\n",
       "3  A1VCTFBQVZ1F7T  B005P23BB8            5.0          3.834530\n",
       "4  A236SEBB7SYE1V  B002NU6MKW            4.0          4.435584"
      ]
     },
     "execution_count": 55,
     "metadata": {
      "tags": []
     },
     "output_type": "execute_result"
    }
   ],
   "source": [
    "print (\"Initial dataframe: \")\n",
    "df = pd.DataFrame(predictions, columns=['user_id', 'item_id', 'actual_rating', 'predicted_rating', 'details']) \n",
    "print (df.head())\n",
    "\n",
    "# We will not use the details field so we will drop it\n",
    "df.drop('details',axis=1,inplace=True)\n",
    "\n",
    "print \n",
    "print (\"After dropping details column: \")\n",
    "df.head()"
   ]
  },
  {
   "cell_type": "code",
   "execution_count": 61,
   "metadata": {
    "colab": {
     "base_uri": "https://localhost:8080/",
     "height": 222
    },
    "colab_type": "code",
    "executionInfo": {
     "elapsed": 415,
     "status": "ok",
     "timestamp": 1565398340517,
     "user": {
      "displayName": "Sheshank Makkapati",
      "photoUrl": "",
      "userId": "13178050718777781068"
     },
     "user_tz": 420
    },
    "id": "5SKEUbiZ-IyQ",
    "outputId": "2868e6a6-fc1d-42e0-8b00-a37b8668ee28"
   },
   "outputs": [
    {
     "data": {
      "text/html": [
       "<div>\n",
       "<style scoped>\n",
       "    .dataframe tbody tr th:only-of-type {\n",
       "        vertical-align: middle;\n",
       "    }\n",
       "\n",
       "    .dataframe tbody tr th {\n",
       "        vertical-align: top;\n",
       "    }\n",
       "\n",
       "    .dataframe thead th {\n",
       "        text-align: right;\n",
       "    }\n",
       "</style>\n",
       "<table border=\"1\" class=\"dataframe\">\n",
       "  <thead>\n",
       "    <tr style=\"text-align: right;\">\n",
       "      <th></th>\n",
       "      <th>user_id</th>\n",
       "      <th>item_id</th>\n",
       "      <th>actual_rating</th>\n",
       "      <th>predicted_rating</th>\n",
       "      <th>user_num_of_ratings</th>\n",
       "      <th>item_num_of_ratings</th>\n",
       "      <th>mae</th>\n",
       "    </tr>\n",
       "  </thead>\n",
       "  <tbody>\n",
       "    <tr>\n",
       "      <th>0</th>\n",
       "      <td>AMRI05KYFSNGE</td>\n",
       "      <td>B0014X6V4Q</td>\n",
       "      <td>4.0</td>\n",
       "      <td>3.962407</td>\n",
       "      <td>None</td>\n",
       "      <td>None</td>\n",
       "      <td>0.037593</td>\n",
       "    </tr>\n",
       "    <tr>\n",
       "      <th>1</th>\n",
       "      <td>A3UKDS0JCJ68Y</td>\n",
       "      <td>B006OW1V4C</td>\n",
       "      <td>5.0</td>\n",
       "      <td>4.538245</td>\n",
       "      <td>None</td>\n",
       "      <td>None</td>\n",
       "      <td>0.461755</td>\n",
       "    </tr>\n",
       "    <tr>\n",
       "      <th>2</th>\n",
       "      <td>A3EQ03LUCUTE6Q</td>\n",
       "      <td>B00B2PMF1Y</td>\n",
       "      <td>5.0</td>\n",
       "      <td>4.040201</td>\n",
       "      <td>None</td>\n",
       "      <td>None</td>\n",
       "      <td>0.959799</td>\n",
       "    </tr>\n",
       "    <tr>\n",
       "      <th>3</th>\n",
       "      <td>A1VCTFBQVZ1F7T</td>\n",
       "      <td>B005P23BB8</td>\n",
       "      <td>5.0</td>\n",
       "      <td>3.834530</td>\n",
       "      <td>None</td>\n",
       "      <td>None</td>\n",
       "      <td>1.165470</td>\n",
       "    </tr>\n",
       "    <tr>\n",
       "      <th>4</th>\n",
       "      <td>A236SEBB7SYE1V</td>\n",
       "      <td>B002NU6MKW</td>\n",
       "      <td>4.0</td>\n",
       "      <td>4.435584</td>\n",
       "      <td>None</td>\n",
       "      <td>None</td>\n",
       "      <td>0.435584</td>\n",
       "    </tr>\n",
       "  </tbody>\n",
       "</table>\n",
       "</div>"
      ],
      "text/plain": [
       "          user_id     item_id  ...  item_num_of_ratings       mae\n",
       "0   AMRI05KYFSNGE  B0014X6V4Q  ...                 None  0.037593\n",
       "1   A3UKDS0JCJ68Y  B006OW1V4C  ...                 None  0.461755\n",
       "2  A3EQ03LUCUTE6Q  B00B2PMF1Y  ...                 None  0.959799\n",
       "3  A1VCTFBQVZ1F7T  B005P23BB8  ...                 None  1.165470\n",
       "4  A236SEBB7SYE1V  B002NU6MKW  ...                 None  0.435584\n",
       "\n",
       "[5 rows x 7 columns]"
      ]
     },
     "execution_count": 61,
     "metadata": {
      "tags": []
     },
     "output_type": "execute_result"
    }
   ],
   "source": [
    "def get_Iu(uid):\n",
    "    \"\"\"Return the number of items rated by given user\n",
    "    \n",
    "    Args:\n",
    "        uid: The raw id of the user.\n",
    "    Returns:\n",
    "        The number of items rated by the user.\n",
    "    \"\"\"\n",
    "    \n",
    "    \n",
    "    \n",
    "def get_Ui(iid):\n",
    "    \"\"\"Return the number of users that have rated given item\n",
    "    \n",
    "    Args:\n",
    "        iid: The raw id of the item.\n",
    "    Returns:\n",
    "        The number of users that have rated the item.\n",
    "    \"\"\"\n",
    "    \n",
    "    \n",
    "   \n",
    "df['user_num_of_ratings'] = df.user_id.apply(get_Iu)\n",
    "df['item_num_of_ratings'] = df.item_id.apply(get_Ui)\n",
    "df['mae'] = abs(df.predicted_rating - df.actual_rating)\n",
    "df.head()"
   ]
  },
  {
   "cell_type": "code",
   "execution_count": 0,
   "metadata": {
    "colab": {},
    "colab_type": "code",
    "id": "Ygnlz9XdA5sC"
   },
   "outputs": [],
   "source": [
    "best_predictions = df.sort_values(by='mae')[:1]\n",
    "worst_predictions = df.sort_values(by='mae')[-1:]"
   ]
  },
  {
   "cell_type": "code",
   "execution_count": 63,
   "metadata": {
    "colab": {
     "base_uri": "https://localhost:8080/",
     "height": 99
    },
    "colab_type": "code",
    "executionInfo": {
     "elapsed": 361,
     "status": "ok",
     "timestamp": 1565398424480,
     "user": {
      "displayName": "Sheshank Makkapati",
      "photoUrl": "",
      "userId": "13178050718777781068"
     },
     "user_tz": 420
    },
    "id": "dztaARlxBDS7",
    "outputId": "a68967c0-cfd8-40d2-8b13-63facaa51915"
   },
   "outputs": [
    {
     "data": {
      "text/html": [
       "<div>\n",
       "<style scoped>\n",
       "    .dataframe tbody tr th:only-of-type {\n",
       "        vertical-align: middle;\n",
       "    }\n",
       "\n",
       "    .dataframe tbody tr th {\n",
       "        vertical-align: top;\n",
       "    }\n",
       "\n",
       "    .dataframe thead th {\n",
       "        text-align: right;\n",
       "    }\n",
       "</style>\n",
       "<table border=\"1\" class=\"dataframe\">\n",
       "  <thead>\n",
       "    <tr style=\"text-align: right;\">\n",
       "      <th></th>\n",
       "      <th>user_id</th>\n",
       "      <th>item_id</th>\n",
       "      <th>actual_rating</th>\n",
       "      <th>predicted_rating</th>\n",
       "      <th>user_num_of_ratings</th>\n",
       "      <th>item_num_of_ratings</th>\n",
       "      <th>mae</th>\n",
       "    </tr>\n",
       "  </thead>\n",
       "  <tbody>\n",
       "    <tr>\n",
       "      <th>54248</th>\n",
       "      <td>AMP6MQ78O5OUM</td>\n",
       "      <td>B002HIBZBG</td>\n",
       "      <td>5.0</td>\n",
       "      <td>5.0</td>\n",
       "      <td>None</td>\n",
       "      <td>None</td>\n",
       "      <td>0.0</td>\n",
       "    </tr>\n",
       "  </tbody>\n",
       "</table>\n",
       "</div>"
      ],
      "text/plain": [
       "             user_id     item_id  ...  item_num_of_ratings  mae\n",
       "54248  AMP6MQ78O5OUM  B002HIBZBG  ...                 None  0.0\n",
       "\n",
       "[1 rows x 7 columns]"
      ]
     },
     "execution_count": 63,
     "metadata": {
      "tags": []
     },
     "output_type": "execute_result"
    }
   ],
   "source": [
    "best_predictions"
   ]
  },
  {
   "cell_type": "code",
   "execution_count": 67,
   "metadata": {
    "colab": {
     "base_uri": "https://localhost:8080/",
     "height": 99
    },
    "colab_type": "code",
    "executionInfo": {
     "elapsed": 325,
     "status": "ok",
     "timestamp": 1565398591132,
     "user": {
      "displayName": "Sheshank Makkapati",
      "photoUrl": "",
      "userId": "13178050718777781068"
     },
     "user_tz": 420
    },
    "id": "YHzhmZgFBtf3",
    "outputId": "302fad81-aeea-4517-c0cf-3138b4fb7986"
   },
   "outputs": [
    {
     "data": {
      "text/html": [
       "<div>\n",
       "<style scoped>\n",
       "    .dataframe tbody tr th:only-of-type {\n",
       "        vertical-align: middle;\n",
       "    }\n",
       "\n",
       "    .dataframe tbody tr th {\n",
       "        vertical-align: top;\n",
       "    }\n",
       "\n",
       "    .dataframe thead th {\n",
       "        text-align: right;\n",
       "    }\n",
       "</style>\n",
       "<table border=\"1\" class=\"dataframe\">\n",
       "  <thead>\n",
       "    <tr style=\"text-align: right;\">\n",
       "      <th></th>\n",
       "      <th>user_id</th>\n",
       "      <th>item_id</th>\n",
       "      <th>actual_rating</th>\n",
       "      <th>predicted_rating</th>\n",
       "      <th>user_num_of_ratings</th>\n",
       "      <th>item_num_of_ratings</th>\n",
       "      <th>mae</th>\n",
       "    </tr>\n",
       "  </thead>\n",
       "  <tbody>\n",
       "    <tr>\n",
       "      <th>21918</th>\n",
       "      <td>AGRGPW2OMOQ52</td>\n",
       "      <td>B000KGI9PM</td>\n",
       "      <td>1.0</td>\n",
       "      <td>4.96112</td>\n",
       "      <td>None</td>\n",
       "      <td>None</td>\n",
       "      <td>3.96112</td>\n",
       "    </tr>\n",
       "  </tbody>\n",
       "</table>\n",
       "</div>"
      ],
      "text/plain": [
       "             user_id     item_id  ...  item_num_of_ratings      mae\n",
       "21918  AGRGPW2OMOQ52  B000KGI9PM  ...                 None  3.96112\n",
       "\n",
       "[1 rows x 7 columns]"
      ]
     },
     "execution_count": 67,
     "metadata": {
      "tags": []
     },
     "output_type": "execute_result"
    }
   ],
   "source": [
    "worst_predictions"
   ]
  },
  {
   "cell_type": "code",
   "execution_count": 70,
   "metadata": {
    "colab": {
     "base_uri": "https://localhost:8080/",
     "height": 295
    },
    "colab_type": "code",
    "executionInfo": {
     "elapsed": 609,
     "status": "ok",
     "timestamp": 1565398712948,
     "user": {
      "displayName": "Sheshank Makkapati",
      "photoUrl": "",
      "userId": "13178050718777781068"
     },
     "user_tz": 420
    },
    "id": "qzywIZYZBxhf",
    "outputId": "d1a78314-b08b-4db2-973c-3c77af8f1bb8"
   },
   "outputs": [
    {
     "data": {
      "image/png": "[encoded data removed]",
      "text/plain": [
       "<Figure size 432x288 with 1 Axes>"
      ]
     },
     "metadata": {
      "tags": []
     },
     "output_type": "display_data"
    }
   ],
   "source": [
    "x = df['predicted_rating']\n",
    "y = df['actual_rating']\n",
    "data = np.vstack([x, y]).T\n",
    "plt.hist(data,bins=5,alpha=0.6, label=['Predicted', 'Actual'])\n",
    "plt.axvline(x.mean(), color='b',linestyle='dashed', linewidth=1)\n",
    "plt.axvline(x.std(), color='b', linestyle='dashed', linewidth=1)\n",
    "\n",
    "plt.axvline(y.mean(), color='g', linestyle='dashed',linewidth=1)\n",
    "plt.axvline(y.std(), color='g', linestyle='dashed', linewidth=1)\n",
    "plt.legend(loc='upper left')\n",
    "\n",
    "plt.title(\"Actual vs. Predicted ratings\")\n",
    "plt.xlabel(\"Rating\")\n",
    "plt.ylabel(\"Frequency\")\n",
    "plt.show()"
   ]
  }
 ],
 "metadata": {
  "colab": {
   "collapsed_sections": [],
   "name": "Copy of Untitled4.ipynb",
   "provenance": [
    {
     "file_id": "1-5kUDpM9BespHMXgVnJmVAE144GI4xOB",
     "timestamp": 1565402367036
    }
   ],
   "version": "0.3.2"
  },
  "kernelspec": {
   "display_name": "Python 3",
   "language": "python",
   "name": "python3"
  },
  "language_info": {
   "codemirror_mode": {
    "name": "ipython",
    "version": 3
   },
   "file_extension": ".py",
   "mimetype": "text/x-python",
   "name": "python",
   "nbconvert_exporter": "python",
   "pygments_lexer": "ipython3",
   "version": "3.6.8"
  }
 },
 "nbformat": 4,
 "nbformat_minor": 1
}
